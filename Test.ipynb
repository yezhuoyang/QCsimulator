{
 "cells": [
  {
   "cell_type": "code",
   "execution_count": 2,
   "id": "fbe288d0-b1e9-4fc9-a891-a2fc04a9d273",
   "metadata": {},
   "outputs": [],
   "source": [
    "import numpy as np"
   ]
  },
  {
   "cell_type": "code",
   "execution_count": 18,
   "id": "4755ac00-304b-4a10-9e63-f07147a7572e",
   "metadata": {},
   "outputs": [],
   "source": [
    "A=np.array([[1,2],[3,4]])"
   ]
  },
  {
   "cell_type": "code",
   "execution_count": 25,
   "id": "8a7709da-d79f-4940-a0f7-37a1b9f0aba9",
   "metadata": {},
   "outputs": [
    {
     "data": {
      "text/plain": [
       "2"
      ]
     },
     "execution_count": 25,
     "metadata": {},
     "output_type": "execute_result"
    }
   ],
   "source": [
    "len(list(A.shape))"
   ]
  },
  {
   "cell_type": "code",
   "execution_count": 27,
   "id": "edde6996-8a87-4de9-8224-67b5203badf3",
   "metadata": {},
   "outputs": [
    {
     "data": {
      "text/plain": [
       "1.4142135623730951"
      ]
     },
     "execution_count": 27,
     "metadata": {},
     "output_type": "execute_result"
    }
   ],
   "source": [
    "abs(1+1j)"
   ]
  },
  {
   "cell_type": "code",
   "execution_count": 6,
   "id": "7ce6f749-0049-4e8b-8983-6a857b9b6a7a",
   "metadata": {},
   "outputs": [],
   "source": [
    "L1=np.array([0,1])"
   ]
  },
  {
   "cell_type": "code",
   "execution_count": 7,
   "id": "2f64ae75-47f0-439b-9d45-7ab8dedaf3a3",
   "metadata": {},
   "outputs": [],
   "source": [
    "L2=np.array([1,0])"
   ]
  },
  {
   "cell_type": "code",
   "execution_count": 8,
   "id": "c8198ded-83ed-49eb-aa14-3adceb574d8d",
   "metadata": {},
   "outputs": [],
   "source": [
    "L3=np.kron(L1,L2)"
   ]
  },
  {
   "cell_type": "code",
   "execution_count": 24,
   "id": "3e4bf660-9fd7-4346-928a-edcf52d810c1",
   "metadata": {},
   "outputs": [
    {
     "data": {
      "text/plain": [
       "4"
      ]
     },
     "execution_count": 24,
     "metadata": {},
     "output_type": "execute_result"
    }
   ],
   "source": [
    "L3.shape[0]"
   ]
  },
  {
   "cell_type": "code",
   "execution_count": 16,
   "id": "798f8fcf-3477-4362-8ade-03cb72021fc2",
   "metadata": {},
   "outputs": [
    {
     "data": {
      "text/plain": [
       "4"
      ]
     },
     "execution_count": 16,
     "metadata": {},
     "output_type": "execute_result"
    }
   ],
   "source": [
    "len(L3)"
   ]
  },
  {
   "cell_type": "code",
   "execution_count": 28,
   "id": "1cce87c0-6c5b-4465-88b1-c29ac44248f2",
   "metadata": {},
   "outputs": [],
   "source": [
    "norm = sum([abs(x) ** 2 for x in L3])"
   ]
  },
  {
   "cell_type": "code",
   "execution_count": 29,
   "id": "9f90d202-376a-400f-887d-799e6bb67d55",
   "metadata": {},
   "outputs": [
    {
     "data": {
      "text/plain": [
       "1"
      ]
     },
     "execution_count": 29,
     "metadata": {},
     "output_type": "execute_result"
    }
   ],
   "source": [
    "norm"
   ]
  },
  {
   "cell_type": "code",
   "execution_count": 32,
   "id": "71edab8c-3a8b-42fa-b39d-0f6cfad7dadc",
   "metadata": {},
   "outputs": [
    {
     "data": {
      "text/plain": [
       "array([0, 0, 1, 0])"
      ]
     },
     "execution_count": 32,
     "metadata": {},
     "output_type": "execute_result"
    }
   ],
   "source": [
    "L3.conjugate()"
   ]
  },
  {
   "cell_type": "code",
   "execution_count": 34,
   "id": "621c3593-68e7-4f17-8a91-e41b462d996f",
   "metadata": {},
   "outputs": [],
   "source": [
    "L3=np.array([0,1j])"
   ]
  },
  {
   "cell_type": "code",
   "execution_count": 35,
   "id": "314803c3-02b9-4a80-bb62-61116e4793cd",
   "metadata": {},
   "outputs": [
    {
     "data": {
      "text/plain": [
       "array([0.-0.j, 0.-1.j])"
      ]
     },
     "execution_count": 35,
     "metadata": {},
     "output_type": "execute_result"
    }
   ],
   "source": [
    "L3.conjugate()"
   ]
  },
  {
   "cell_type": "code",
   "execution_count": 36,
   "id": "5e666787-35a3-4619-924c-9ac56d0f4fbe",
   "metadata": {},
   "outputs": [
    {
     "data": {
      "text/plain": [
       "(1+0j)"
      ]
     },
     "execution_count": 36,
     "metadata": {},
     "output_type": "execute_result"
    }
   ],
   "source": [
    "np.inner(L3.conjugate(),L3)"
   ]
  },
  {
   "cell_type": "code",
   "execution_count": null,
   "id": "16a7e298-b1ad-4108-ae49-12cad0b61850",
   "metadata": {},
   "outputs": [],
   "source": []
  }
 ],
 "metadata": {
  "kernelspec": {
   "display_name": "Python 3 (ipykernel)",
   "language": "python",
   "name": "python3"
  },
  "language_info": {
   "codemirror_mode": {
    "name": "ipython",
    "version": 3
   },
   "file_extension": ".py",
   "mimetype": "text/x-python",
   "name": "python",
   "nbconvert_exporter": "python",
   "pygments_lexer": "ipython3",
   "version": "3.11.4"
  }
 },
 "nbformat": 4,
 "nbformat_minor": 5
}
